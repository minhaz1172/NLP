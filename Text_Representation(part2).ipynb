{
  "nbformat": 4,
  "nbformat_minor": 0,
  "metadata": {
    "colab": {
      "provenance": [],
      "authorship_tag": "ABX9TyPU3HOiTho90wLrOcqsHao7",
      "include_colab_link": true
    },
    "kernelspec": {
      "name": "python3",
      "display_name": "Python 3"
    },
    "language_info": {
      "name": "python"
    }
  },
  "cells": [
    {
      "cell_type": "markdown",
      "metadata": {
        "id": "view-in-github",
        "colab_type": "text"
      },
      "source": [
        "<a href=\"https://colab.research.google.com/github/minhaz1172/NLP/blob/main/Text_Representation(part2).ipynb\" target=\"_parent\"><img src=\"https://colab.research.google.com/assets/colab-badge.svg\" alt=\"Open In Colab\"/></a>"
      ]
    },
    {
      "cell_type": "markdown",
      "source": [
        "Unigram → single words  \n",
        "Bigram  → two-word combinations  \n",
        "Trigram → three-word combinations  \n",
        "N-gram  → general form for N consecutive items\n"
      ],
      "metadata": {
        "id": "Mx-LXwvJXIem"
      }
    },
    {
      "cell_type": "markdown",
      "source": [
        "## Technique:1,Using Nltk"
      ],
      "metadata": {
        "id": "3CwFr6a-Xik_"
      }
    },
    {
      "cell_type": "code",
      "execution_count": 3,
      "metadata": {
        "colab": {
          "base_uri": "https://localhost:8080/"
        },
        "id": "QIfGBXXnWzBN",
        "outputId": "8bcc4487-bc03-482c-8f7d-531de93046d8"
      },
      "outputs": [
        {
          "output_type": "stream",
          "name": "stderr",
          "text": [
            "[nltk_data] Downloading package punkt to /root/nltk_data...\n",
            "[nltk_data]   Package punkt is already up-to-date!\n",
            "[nltk_data] Downloading package punkt_tab to /root/nltk_data...\n",
            "[nltk_data]   Unzipping tokenizers/punkt_tab.zip.\n"
          ]
        }
      ],
      "source": [
        "import nltk\n",
        "nltk.download('punkt')\n",
        "nltk.download('punkt_tab')\n",
        "\n",
        "from nltk.tokenize import word_tokenize\n",
        "\n",
        "#example\n",
        "sentence=\"N-grams enhance the lanugage propecessing task and it is a great method of text representation\""
      ]
    },
    {
      "cell_type": "code",
      "source": [
        "# TOKENIZE\n",
        "tokens=word_tokenize(sentence)\n",
        "print(tokens)"
      ],
      "metadata": {
        "colab": {
          "base_uri": "https://localhost:8080/"
        },
        "id": "1wVZM_FDYRXv",
        "outputId": "f5158999-a4e8-4eb5-eee1-29d1ed0bf7af"
      },
      "execution_count": 4,
      "outputs": [
        {
          "output_type": "stream",
          "name": "stdout",
          "text": [
            "['N-grams', 'enhance', 'the', 'lanugage', 'propecessing', 'task', 'and', 'it', 'is', 'a', 'great', 'method', 'of', 'text', 'representation']\n"
          ]
        }
      ]
    },
    {
      "cell_type": "markdown",
      "source": [
        "# unigram is a bag of words"
      ],
      "metadata": {
        "id": "-mpeDSTYYqWI"
      }
    },
    {
      "cell_type": "markdown",
      "source": [
        "#Count Vectrizer Scikit learn"
      ],
      "metadata": {
        "id": "V1dgBUI6aQsY"
      }
    },
    {
      "cell_type": "markdown",
      "source": [
        "**(1, 1)**: Extracts unigrams (single words). <br> This is the default behavior.<br>\n",
        "**(1, 2)**: Extracts unigrams and bigrams (pairs of words).<br>\n",
        "**(2, 2):** Extracts only bigrams.<br>\n",
        "**(1, 3)**: Extracts unigrams, bigrams, and trigrams (sequences of three words)"
      ],
      "metadata": {
        "id": "QMC5ihXXbU4l"
      }
    },
    {
      "cell_type": "code",
      "source": [
        "from sklearn.feature_extraction.text import CountVectorizer\n",
        "\n",
        "vectorizer=CountVectorizer(ngram_range=(1,2)) # unigram\n",
        "# Place the sentence in a list to make it an iterable\n",
        "ngram_matriz=vectorizer.fit_transform([sentence])\n",
        "\n",
        "# feature name\n",
        "feature_names=vectorizer.get_feature_names_out()\n",
        "print(feature_names)\n",
        "\n",
        "# N_gram matrix in numerical\n",
        "X=ngram_matriz.toarray()\n",
        "print(\"Matrix:\",X)"
      ],
      "metadata": {
        "colab": {
          "base_uri": "https://localhost:8080/"
        },
        "id": "SmWk-U9eoZxW",
        "outputId": "267ea21a-0a3b-448b-e980-a0d0858b9d6f"
      },
      "execution_count": 13,
      "outputs": [
        {
          "output_type": "stream",
          "name": "stdout",
          "text": [
            "['and' 'and it' 'enhance' 'enhance the' 'grams' 'grams enhance' 'great'\n",
            " 'great method' 'is' 'is great' 'it' 'it is' 'lanugage'\n",
            " 'lanugage propecessing' 'method' 'method of' 'of' 'of text'\n",
            " 'propecessing' 'propecessing task' 'representation' 'task' 'task and'\n",
            " 'text' 'text representation' 'the' 'the lanugage']\n",
            "Matrix: [[1 1 1 1 1 1 1 1 1 1 1 1 1 1 1 1 1 1 1 1 1 1 1 1 1 1 1]]\n"
          ]
        }
      ]
    },
    {
      "cell_type": "code",
      "source": [
        "from sklearn.feature_extraction.text import CountVectorizer\n",
        "\n",
        "vectorizer=CountVectorizer(ngram_range=(2,2)) # bigram\n",
        "# Place the sentence in a list to make it an iterable\n",
        "ngram_matriz=vectorizer.fit_transform([sentence])\n",
        "\n",
        "# feature name\n",
        "feature_names=vectorizer.get_feature_names_out()\n",
        "print(feature_names)\n",
        "\n",
        "# N_gram matrix in numerical\n",
        "X=ngram_matriz.toarray()\n",
        "print(\"Matrix:\",X)"
      ],
      "metadata": {
        "colab": {
          "base_uri": "https://localhost:8080/"
        },
        "id": "YV2_owQsYoWx",
        "outputId": "5a639038-433c-44cc-c63b-0afc8a96955b"
      },
      "execution_count": 14,
      "outputs": [
        {
          "output_type": "stream",
          "name": "stdout",
          "text": [
            "['and it' 'enhance the' 'grams enhance' 'great method' 'is great' 'it is'\n",
            " 'lanugage propecessing' 'method of' 'of text' 'propecessing task'\n",
            " 'task and' 'text representation' 'the lanugage']\n",
            "Matrix: [[1 1 1 1 1 1 1 1 1 1 1 1 1]]\n"
          ]
        }
      ]
    },
    {
      "cell_type": "code",
      "source": [
        "from sklearn.feature_extraction.text import CountVectorizer\n",
        "\n",
        "vectorizer=CountVectorizer(ngram_range=(1,2)) # bigram and unigram\n",
        "# Place the sentence in a list to make it an iterable\n",
        "ngram_matriz=vectorizer.fit_transform([sentence])\n",
        "\n",
        "# feature name\n",
        "feature_names=vectorizer.get_feature_names_out()\n",
        "print(feature_names)\n",
        "\n",
        "# N_gram matrix in numerical\n",
        "X=ngram_matriz.toarray()\n",
        "print(\"Matrix:\",X)"
      ],
      "metadata": {
        "colab": {
          "base_uri": "https://localhost:8080/"
        },
        "id": "8z2dd7MUofYA",
        "outputId": "b7e7d048-c8c7-4761-d7e9-3f443cb6c2b9"
      },
      "execution_count": 15,
      "outputs": [
        {
          "output_type": "stream",
          "name": "stdout",
          "text": [
            "['and' 'and it' 'enhance' 'enhance the' 'grams' 'grams enhance' 'great'\n",
            " 'great method' 'is' 'is great' 'it' 'it is' 'lanugage'\n",
            " 'lanugage propecessing' 'method' 'method of' 'of' 'of text'\n",
            " 'propecessing' 'propecessing task' 'representation' 'task' 'task and'\n",
            " 'text' 'text representation' 'the' 'the lanugage']\n",
            "Matrix: [[1 1 1 1 1 1 1 1 1 1 1 1 1 1 1 1 1 1 1 1 1 1 1 1 1 1 1]]\n"
          ]
        }
      ]
    }
  ]
}