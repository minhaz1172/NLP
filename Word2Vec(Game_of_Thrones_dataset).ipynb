{
  "nbformat": 4,
  "nbformat_minor": 0,
  "metadata": {
    "colab": {
      "provenance": [],
      "authorship_tag": "ABX9TyMcs+eOqZou7nGT9UfowHAt",
      "include_colab_link": true
    },
    "kernelspec": {
      "name": "python3",
      "display_name": "Python 3"
    },
    "language_info": {
      "name": "python"
    }
  },
  "cells": [
    {
      "cell_type": "markdown",
      "metadata": {
        "id": "view-in-github",
        "colab_type": "text"
      },
      "source": [
        "<a href=\"https://colab.research.google.com/github/minhaz1172/NLP/blob/main/Word2Vec(Game_of_Thrones_dataset).ipynb\" target=\"_parent\"><img src=\"https://colab.research.google.com/assets/colab-badge.svg\" alt=\"Open In Colab\"/></a>"
      ]
    },
    {
      "cell_type": "markdown",
      "source": [
        "# ** Gensim ** is an open source library in python that is used in unsupervised topic modelling and natural language processing. It is designed to extract semantic topics from documents. It can handle large text collections. Hence it makes it different from other machine learning software packages which target memory processing. Gensim also provides efficient multicore implementations for various algorithms to increase processing speed."
      ],
      "metadata": {
        "id": "p-Kj1vwBxRl2"
      }
    },
    {
      "cell_type": "code",
      "execution_count": 1,
      "metadata": {
        "id": "7IsnkTZGxH4o"
      },
      "outputs": [],
      "source": [
        "import numpy as np\n",
        "import pandas as pd\n"
      ]
    },
    {
      "cell_type": "code",
      "source": [
        "pip install gensim"
      ],
      "metadata": {
        "colab": {
          "base_uri": "https://localhost:8080/"
        },
        "id": "EA-tTlALxsQR",
        "outputId": "f8ea2acc-c178-49b8-d6d8-84fa488f0de0"
      },
      "execution_count": 2,
      "outputs": [
        {
          "output_type": "stream",
          "name": "stdout",
          "text": [
            "Requirement already satisfied: gensim in /usr/local/lib/python3.12/dist-packages (4.3.3)\n",
            "Requirement already satisfied: numpy<2.0,>=1.18.5 in /usr/local/lib/python3.12/dist-packages (from gensim) (1.26.4)\n",
            "Requirement already satisfied: scipy<1.14.0,>=1.7.0 in /usr/local/lib/python3.12/dist-packages (from gensim) (1.13.1)\n",
            "Requirement already satisfied: smart-open>=1.8.1 in /usr/local/lib/python3.12/dist-packages (from gensim) (7.3.0.post1)\n",
            "Requirement already satisfied: wrapt in /usr/local/lib/python3.12/dist-packages (from smart-open>=1.8.1->gensim) (1.17.3)\n"
          ]
        }
      ]
    },
    {
      "cell_type": "code",
      "source": [
        "import gensim\n",
        "print(gensim.__version__)"
      ],
      "metadata": {
        "colab": {
          "base_uri": "https://localhost:8080/"
        },
        "id": "p8lJY68-x3yq",
        "outputId": "ca0f344a-9b1f-43e7-8991-10ed7dc2833f"
      },
      "execution_count": 3,
      "outputs": [
        {
          "output_type": "stream",
          "name": "stdout",
          "text": [
            "4.3.3\n"
          ]
        }
      ]
    },
    {
      "cell_type": "markdown",
      "source": [
        "# import dataset from kaggle"
      ],
      "metadata": {
        "id": "qzPbKqEyy34S"
      }
    },
    {
      "cell_type": "code",
      "source": [
        "from google.colab import files\n",
        "files.upload()\n"
      ],
      "metadata": {
        "colab": {
          "base_uri": "https://localhost:8080/",
          "height": 90
        },
        "id": "3V2vKcY3y6b5",
        "outputId": "3f6ac87a-0be3-4218-881f-0059026329bc"
      },
      "execution_count": 4,
      "outputs": [
        {
          "output_type": "display_data",
          "data": {
            "text/plain": [
              "<IPython.core.display.HTML object>"
            ],
            "text/html": [
              "\n",
              "     <input type=\"file\" id=\"files-82201af7-6919-46e0-9407-bb80a6b14753\" name=\"files[]\" multiple disabled\n",
              "        style=\"border:none\" />\n",
              "     <output id=\"result-82201af7-6919-46e0-9407-bb80a6b14753\">\n",
              "      Upload widget is only available when the cell has been executed in the\n",
              "      current browser session. Please rerun this cell to enable.\n",
              "      </output>\n",
              "      <script>// Copyright 2017 Google LLC\n",
              "//\n",
              "// Licensed under the Apache License, Version 2.0 (the \"License\");\n",
              "// you may not use this file except in compliance with the License.\n",
              "// You may obtain a copy of the License at\n",
              "//\n",
              "//      http://www.apache.org/licenses/LICENSE-2.0\n",
              "//\n",
              "// Unless required by applicable law or agreed to in writing, software\n",
              "// distributed under the License is distributed on an \"AS IS\" BASIS,\n",
              "// WITHOUT WARRANTIES OR CONDITIONS OF ANY KIND, either express or implied.\n",
              "// See the License for the specific language governing permissions and\n",
              "// limitations under the License.\n",
              "\n",
              "/**\n",
              " * @fileoverview Helpers for google.colab Python module.\n",
              " */\n",
              "(function(scope) {\n",
              "function span(text, styleAttributes = {}) {\n",
              "  const element = document.createElement('span');\n",
              "  element.textContent = text;\n",
              "  for (const key of Object.keys(styleAttributes)) {\n",
              "    element.style[key] = styleAttributes[key];\n",
              "  }\n",
              "  return element;\n",
              "}\n",
              "\n",
              "// Max number of bytes which will be uploaded at a time.\n",
              "const MAX_PAYLOAD_SIZE = 100 * 1024;\n",
              "\n",
              "function _uploadFiles(inputId, outputId) {\n",
              "  const steps = uploadFilesStep(inputId, outputId);\n",
              "  const outputElement = document.getElementById(outputId);\n",
              "  // Cache steps on the outputElement to make it available for the next call\n",
              "  // to uploadFilesContinue from Python.\n",
              "  outputElement.steps = steps;\n",
              "\n",
              "  return _uploadFilesContinue(outputId);\n",
              "}\n",
              "\n",
              "// This is roughly an async generator (not supported in the browser yet),\n",
              "// where there are multiple asynchronous steps and the Python side is going\n",
              "// to poll for completion of each step.\n",
              "// This uses a Promise to block the python side on completion of each step,\n",
              "// then passes the result of the previous step as the input to the next step.\n",
              "function _uploadFilesContinue(outputId) {\n",
              "  const outputElement = document.getElementById(outputId);\n",
              "  const steps = outputElement.steps;\n",
              "\n",
              "  const next = steps.next(outputElement.lastPromiseValue);\n",
              "  return Promise.resolve(next.value.promise).then((value) => {\n",
              "    // Cache the last promise value to make it available to the next\n",
              "    // step of the generator.\n",
              "    outputElement.lastPromiseValue = value;\n",
              "    return next.value.response;\n",
              "  });\n",
              "}\n",
              "\n",
              "/**\n",
              " * Generator function which is called between each async step of the upload\n",
              " * process.\n",
              " * @param {string} inputId Element ID of the input file picker element.\n",
              " * @param {string} outputId Element ID of the output display.\n",
              " * @return {!Iterable<!Object>} Iterable of next steps.\n",
              " */\n",
              "function* uploadFilesStep(inputId, outputId) {\n",
              "  const inputElement = document.getElementById(inputId);\n",
              "  inputElement.disabled = false;\n",
              "\n",
              "  const outputElement = document.getElementById(outputId);\n",
              "  outputElement.innerHTML = '';\n",
              "\n",
              "  const pickedPromise = new Promise((resolve) => {\n",
              "    inputElement.addEventListener('change', (e) => {\n",
              "      resolve(e.target.files);\n",
              "    });\n",
              "  });\n",
              "\n",
              "  const cancel = document.createElement('button');\n",
              "  inputElement.parentElement.appendChild(cancel);\n",
              "  cancel.textContent = 'Cancel upload';\n",
              "  const cancelPromise = new Promise((resolve) => {\n",
              "    cancel.onclick = () => {\n",
              "      resolve(null);\n",
              "    };\n",
              "  });\n",
              "\n",
              "  // Wait for the user to pick the files.\n",
              "  const files = yield {\n",
              "    promise: Promise.race([pickedPromise, cancelPromise]),\n",
              "    response: {\n",
              "      action: 'starting',\n",
              "    }\n",
              "  };\n",
              "\n",
              "  cancel.remove();\n",
              "\n",
              "  // Disable the input element since further picks are not allowed.\n",
              "  inputElement.disabled = true;\n",
              "\n",
              "  if (!files) {\n",
              "    return {\n",
              "      response: {\n",
              "        action: 'complete',\n",
              "      }\n",
              "    };\n",
              "  }\n",
              "\n",
              "  for (const file of files) {\n",
              "    const li = document.createElement('li');\n",
              "    li.append(span(file.name, {fontWeight: 'bold'}));\n",
              "    li.append(span(\n",
              "        `(${file.type || 'n/a'}) - ${file.size} bytes, ` +\n",
              "        `last modified: ${\n",
              "            file.lastModifiedDate ? file.lastModifiedDate.toLocaleDateString() :\n",
              "                                    'n/a'} - `));\n",
              "    const percent = span('0% done');\n",
              "    li.appendChild(percent);\n",
              "\n",
              "    outputElement.appendChild(li);\n",
              "\n",
              "    const fileDataPromise = new Promise((resolve) => {\n",
              "      const reader = new FileReader();\n",
              "      reader.onload = (e) => {\n",
              "        resolve(e.target.result);\n",
              "      };\n",
              "      reader.readAsArrayBuffer(file);\n",
              "    });\n",
              "    // Wait for the data to be ready.\n",
              "    let fileData = yield {\n",
              "      promise: fileDataPromise,\n",
              "      response: {\n",
              "        action: 'continue',\n",
              "      }\n",
              "    };\n",
              "\n",
              "    // Use a chunked sending to avoid message size limits. See b/62115660.\n",
              "    let position = 0;\n",
              "    do {\n",
              "      const length = Math.min(fileData.byteLength - position, MAX_PAYLOAD_SIZE);\n",
              "      const chunk = new Uint8Array(fileData, position, length);\n",
              "      position += length;\n",
              "\n",
              "      const base64 = btoa(String.fromCharCode.apply(null, chunk));\n",
              "      yield {\n",
              "        response: {\n",
              "          action: 'append',\n",
              "          file: file.name,\n",
              "          data: base64,\n",
              "        },\n",
              "      };\n",
              "\n",
              "      let percentDone = fileData.byteLength === 0 ?\n",
              "          100 :\n",
              "          Math.round((position / fileData.byteLength) * 100);\n",
              "      percent.textContent = `${percentDone}% done`;\n",
              "\n",
              "    } while (position < fileData.byteLength);\n",
              "  }\n",
              "\n",
              "  // All done.\n",
              "  yield {\n",
              "    response: {\n",
              "      action: 'complete',\n",
              "    }\n",
              "  };\n",
              "}\n",
              "\n",
              "scope.google = scope.google || {};\n",
              "scope.google.colab = scope.google.colab || {};\n",
              "scope.google.colab._files = {\n",
              "  _uploadFiles,\n",
              "  _uploadFilesContinue,\n",
              "};\n",
              "})(self);\n",
              "</script> "
            ]
          },
          "metadata": {}
        },
        {
          "output_type": "stream",
          "name": "stdout",
          "text": [
            "Saving kaggle.json to kaggle.json\n"
          ]
        },
        {
          "output_type": "execute_result",
          "data": {
            "text/plain": [
              "{'kaggle.json': b'{\"username\":\"minhaz1172\",\"key\":\"c20c43ca9e6e5be6fa69c912fab503c3\"}'}"
            ]
          },
          "metadata": {},
          "execution_count": 4
        }
      ]
    },
    {
      "cell_type": "code",
      "source": [
        "!mkdir -p ~/.kaggle\n",
        "!cp kaggle.json ~/.kaggle/\n",
        "!chmod 600 ~/.kaggle/kaggle.json\n"
      ],
      "metadata": {
        "id": "9pTW-OKtzHUy"
      },
      "execution_count": 5,
      "outputs": []
    },
    {
      "cell_type": "code",
      "source": [
        "!pip install kaggle\n"
      ],
      "metadata": {
        "colab": {
          "base_uri": "https://localhost:8080/"
        },
        "id": "njRLzacBzIfN",
        "outputId": "2c918335-43ec-41e7-a04d-ea5db9526753"
      },
      "execution_count": 6,
      "outputs": [
        {
          "output_type": "stream",
          "name": "stdout",
          "text": [
            "Requirement already satisfied: kaggle in /usr/local/lib/python3.12/dist-packages (1.7.4.5)\n",
            "Requirement already satisfied: bleach in /usr/local/lib/python3.12/dist-packages (from kaggle) (6.2.0)\n",
            "Requirement already satisfied: certifi>=14.05.14 in /usr/local/lib/python3.12/dist-packages (from kaggle) (2025.8.3)\n",
            "Requirement already satisfied: charset-normalizer in /usr/local/lib/python3.12/dist-packages (from kaggle) (3.4.3)\n",
            "Requirement already satisfied: idna in /usr/local/lib/python3.12/dist-packages (from kaggle) (3.10)\n",
            "Requirement already satisfied: protobuf in /usr/local/lib/python3.12/dist-packages (from kaggle) (5.29.5)\n",
            "Requirement already satisfied: python-dateutil>=2.5.3 in /usr/local/lib/python3.12/dist-packages (from kaggle) (2.9.0.post0)\n",
            "Requirement already satisfied: python-slugify in /usr/local/lib/python3.12/dist-packages (from kaggle) (8.0.4)\n",
            "Requirement already satisfied: requests in /usr/local/lib/python3.12/dist-packages (from kaggle) (2.32.4)\n",
            "Requirement already satisfied: setuptools>=21.0.0 in /usr/local/lib/python3.12/dist-packages (from kaggle) (75.2.0)\n",
            "Requirement already satisfied: six>=1.10 in /usr/local/lib/python3.12/dist-packages (from kaggle) (1.17.0)\n",
            "Requirement already satisfied: text-unidecode in /usr/local/lib/python3.12/dist-packages (from kaggle) (1.3)\n",
            "Requirement already satisfied: tqdm in /usr/local/lib/python3.12/dist-packages (from kaggle) (4.67.1)\n",
            "Requirement already satisfied: urllib3>=1.15.1 in /usr/local/lib/python3.12/dist-packages (from kaggle) (2.5.0)\n",
            "Requirement already satisfied: webencodings in /usr/local/lib/python3.12/dist-packages (from kaggle) (0.5.1)\n"
          ]
        }
      ]
    },
    {
      "cell_type": "markdown",
      "source": [
        "# download"
      ],
      "metadata": {
        "id": "O39peU1JzZtY"
      }
    },
    {
      "cell_type": "code",
      "source": [
        "!kaggle datasets download -d khulasasndh/game-of-thrones-books"
      ],
      "metadata": {
        "colab": {
          "base_uri": "https://localhost:8080/"
        },
        "id": "_4zQa5zEzbaL",
        "outputId": "877ee183-2e7b-4d7e-f403-febe6a488fc3"
      },
      "execution_count": 7,
      "outputs": [
        {
          "output_type": "stream",
          "name": "stdout",
          "text": [
            "Dataset URL: https://www.kaggle.com/datasets/khulasasndh/game-of-thrones-books\n",
            "License(s): unknown\n",
            "Downloading game-of-thrones-books.zip to /content\n",
            "  0% 0.00/3.71M [00:00<?, ?B/s]\n",
            "100% 3.71M/3.71M [00:00<00:00, 688MB/s]\n"
          ]
        }
      ]
    },
    {
      "cell_type": "code",
      "source": [
        "# unzip\n",
        "!unzip game-of-thrones-books.zip -d got_books_data"
      ],
      "metadata": {
        "colab": {
          "base_uri": "https://localhost:8080/"
        },
        "id": "DFQuVymMzeZ_",
        "outputId": "e4295bcc-653b-4563-be1e-9c27900ba9db"
      },
      "execution_count": 8,
      "outputs": [
        {
          "output_type": "stream",
          "name": "stdout",
          "text": [
            "Archive:  game-of-thrones-books.zip\n",
            "  inflating: got_books_data/001ssb.txt  \n",
            "  inflating: got_books_data/002ssb.txt  \n",
            "  inflating: got_books_data/003ssb.txt  \n",
            "  inflating: got_books_data/004ssb.txt  \n",
            "  inflating: got_books_data/005ssb.txt  \n"
          ]
        }
      ]
    },
    {
      "cell_type": "markdown",
      "source": [
        "# Read the text files"
      ],
      "metadata": {
        "id": "bWstqxzw0Hmy"
      }
    },
    {
      "cell_type": "code",
      "source": [
        "import gensim\n",
        "import os\n",
        "for filename in os.listdir(\"got_books_data\"):\n",
        "  if filename.endswith(\".txt\"):\n",
        "    print(filename)"
      ],
      "metadata": {
        "colab": {
          "base_uri": "https://localhost:8080/"
        },
        "id": "ckfoVLfv0Lra",
        "outputId": "dbbdb278-3699-4049-98a3-80a752a23953"
      },
      "execution_count": 9,
      "outputs": [
        {
          "output_type": "stream",
          "name": "stdout",
          "text": [
            "002ssb.txt\n",
            "001ssb.txt\n",
            "003ssb.txt\n",
            "005ssb.txt\n",
            "004ssb.txt\n"
          ]
        }
      ]
    },
    {
      "cell_type": "code",
      "source": [
        "import nltk\n",
        "nltk.download('punkt_tab')"
      ],
      "metadata": {
        "colab": {
          "base_uri": "https://localhost:8080/"
        },
        "id": "z99uMMIo1mj6",
        "outputId": "21e236a9-d6a3-4427-a981-0ba5925c07c5"
      },
      "execution_count": 10,
      "outputs": [
        {
          "output_type": "stream",
          "name": "stderr",
          "text": [
            "[nltk_data] Downloading package punkt_tab to /root/nltk_data...\n",
            "[nltk_data]   Unzipping tokenizers/punkt_tab.zip.\n"
          ]
        },
        {
          "output_type": "execute_result",
          "data": {
            "text/plain": [
              "True"
            ]
          },
          "metadata": {},
          "execution_count": 10
        }
      ]
    },
    {
      "cell_type": "code",
      "source": [
        "from nltk import sent_tokenize\n",
        "from gensim.utils import simple_preprocess\n",
        "text=[]\n",
        "\n",
        "for filename in os.listdir('got_books_data'):\n",
        "  with open(os.path.join('got_books_data',filename), encoding='latin-1') as f:\n",
        "    corpus=f.read()\n",
        "    raw_sent=sent_tokenize(corpus)\n",
        "    for sent in raw_sent:\n",
        "      text.append(simple_preprocess(sent))\n",
        "\n",
        "# also remove stopwords it will give better results"
      ],
      "metadata": {
        "id": "6NRqRmN-0vIs"
      },
      "execution_count": 11,
      "outputs": []
    },
    {
      "cell_type": "code",
      "source": [
        "len(text)"
      ],
      "metadata": {
        "colab": {
          "base_uri": "https://localhost:8080/"
        },
        "id": "gxHVHjME19nf",
        "outputId": "b2cb7fd4-9f63-4863-d623-9d2509588671"
      },
      "execution_count": 12,
      "outputs": [
        {
          "output_type": "execute_result",
          "data": {
            "text/plain": [
              "145020"
            ]
          },
          "metadata": {},
          "execution_count": 12
        }
      ]
    },
    {
      "cell_type": "markdown",
      "source": [
        "# building wor2vec using gensim"
      ],
      "metadata": {
        "id": "rP_aZfvf7GjB"
      }
    },
    {
      "cell_type": "markdown",
      "source": [
        "## build a CBOW model\n",
        "**in cbow model**\n",
        "**min_count=1:** Includes words that appear at least once.<br>\n",
        "**vector_size=100:** Generates word vectors of 100 dimensions.<br>\n",
        "**window=5:** Considers a context window of 5 words before and after the target word.<br>\n",
        "**sg=0**: Uses CBOW model (default setting).\n"
      ],
      "metadata": {
        "id": "Z4C6KU8G8lsC"
      }
    },
    {
      "cell_type": "code",
      "source": [
        "model1=gensim.models.Word2Vec(text,vector_size=100,window=10,min_count=0,workers=os.cpu_count()) # windows 10 means context word both side of targe target is 10\n",
        "# min_count means number of alphabet in words #\n"
      ],
      "metadata": {
        "id": "5MCHHESw7Kvj"
      },
      "execution_count": 14,
      "outputs": []
    },
    {
      "cell_type": "markdown",
      "source": [
        "##  build a skip-gram model"
      ],
      "metadata": {
        "id": "8NFTD-Va85t4"
      }
    },
    {
      "cell_type": "code",
      "source": [
        "model2=gensim.models.Word2Vec(text,min_count=1,vector_size=100,window=10,sg=1)"
      ],
      "metadata": {
        "id": "iN6d6MRG8OM2"
      },
      "execution_count": 15,
      "outputs": []
    },
    {
      "cell_type": "markdown",
      "source": [
        "# Building Vocab\n",
        "## for example for model1\n",
        "## same also can be apllied to model 2 skip gram"
      ],
      "metadata": {
        "id": "d-VEaYKI94YN"
      }
    },
    {
      "cell_type": "code",
      "source": [
        "model1.build_vocab(text)"
      ],
      "metadata": {
        "colab": {
          "base_uri": "https://localhost:8080/"
        },
        "id": "6ecnVxtU96eh",
        "outputId": "cba48600-0da4-42e8-add3-abffae3e73be"
      },
      "execution_count": 16,
      "outputs": [
        {
          "output_type": "stream",
          "name": "stderr",
          "text": [
            "WARNING:gensim.models.keyedvectors:sorting after vectors have been allocated is expensive & error-prone\n"
          ]
        }
      ]
    },
    {
      "cell_type": "code",
      "source": [
        "model1.train(text, total_examples=model1.corpus_count, epochs=model1.epochs)\n",
        "# total_examples =total senteces in corpus ,here corpus =text\n",
        "# epochs =model1.epochs is how many iteration"
      ],
      "metadata": {
        "colab": {
          "base_uri": "https://localhost:8080/"
        },
        "id": "6ebtVu4__E2n",
        "outputId": "f1724403-c5f1-4c37-ca64-965cf88bbe9a"
      },
      "execution_count": 17,
      "outputs": [
        {
          "output_type": "stream",
          "name": "stderr",
          "text": [
            "WARNING:gensim.models.word2vec:Effective 'alpha' higher than previous training cycles\n"
          ]
        },
        {
          "output_type": "execute_result",
          "data": {
            "text/plain": [
              "(6602624, 8628190)"
            ]
          },
          "metadata": {},
          "execution_count": 17
        }
      ]
    },
    {
      "cell_type": "markdown",
      "source": [
        "# finding most similar"
      ],
      "metadata": {
        "id": "79DKJa9GBEkx"
      }
    },
    {
      "cell_type": "code",
      "source": [
        "model1.wv.most_similar('royce')"
      ],
      "metadata": {
        "colab": {
          "base_uri": "https://localhost:8080/"
        },
        "id": "GgyOohq3BGmp",
        "outputId": "50ba109e-b75f-495d-b80f-e7db599ad992"
      },
      "execution_count": 18,
      "outputs": [
        {
          "output_type": "execute_result",
          "data": {
            "text/plain": [
              "[('mallister', 0.8452393412590027),\n",
              " ('yohn', 0.8163731098175049),\n",
              " ('blackwood', 0.8151921629905701),\n",
              " ('vance', 0.8151821494102478),\n",
              " ('corbray', 0.8000307083129883),\n",
              " ('piper', 0.7928007245063782),\n",
              " ('hightower', 0.7890763282775879),\n",
              " ('locke', 0.7870227694511414),\n",
              " ('dayne', 0.7836257219314575),\n",
              " ('tytos', 0.7822970747947693)]"
            ]
          },
          "metadata": {},
          "execution_count": 18
        }
      ]
    },
    {
      "cell_type": "code",
      "source": [
        "model1.wv.most_similar('hellbent')"
      ],
      "metadata": {
        "colab": {
          "base_uri": "https://localhost:8080/"
        },
        "collapsed": true,
        "id": "uclfgnPnBVy7",
        "outputId": "13e94b40-cdc7-4cf9-83b2-92dbaaca9c11"
      },
      "execution_count": 19,
      "outputs": [
        {
          "output_type": "execute_result",
          "data": {
            "text/plain": [
              "[('smiler', 0.6496918201446533),\n",
              " ('myraham', 0.6446112394332886),\n",
              " ('dreary', 0.616868793964386),\n",
              " ('portside', 0.6158143877983093),\n",
              " ('ensnarled', 0.6152147650718689),\n",
              " ('longingly', 0.6131302714347839),\n",
              " ('sparked', 0.6129857301712036),\n",
              " ('trill', 0.6103412508964539),\n",
              " ('creak', 0.6091740727424622),\n",
              " ('breached', 0.6083506345748901)]"
            ]
          },
          "metadata": {},
          "execution_count": 19
        }
      ]
    },
    {
      "cell_type": "code",
      "source": [
        "model1.wv.doesnt_match(['waymar',\n",
        "  'had',\n",
        "  'been',\n",
        "  'sworn',\n",
        "  'brother',\n",
        "  'of',\n",
        "  'the',\n",
        "  'night',\n",
        "  'watch'])"
      ],
      "metadata": {
        "colab": {
          "base_uri": "https://localhost:8080/",
          "height": 35
        },
        "id": "oCuJ-zTkK97P",
        "outputId": "cb48cf2b-1cb3-4236-e7f1-dae2e412bbf9"
      },
      "execution_count": 20,
      "outputs": [
        {
          "output_type": "execute_result",
          "data": {
            "text/plain": [
              "'of'"
            ],
            "application/vnd.google.colaboratory.intrinsic+json": {
              "type": "string"
            }
          },
          "metadata": {},
          "execution_count": 20
        }
      ]
    },
    {
      "cell_type": "code",
      "source": [
        "# see vector dimension of any\n",
        "model1.wv['waymar']"
      ],
      "metadata": {
        "colab": {
          "base_uri": "https://localhost:8080/"
        },
        "collapsed": true,
        "id": "V9Hnw-omLOqF",
        "outputId": "c8c814aa-ab2a-47de-9ee9-84f99968c712"
      },
      "execution_count": 21,
      "outputs": [
        {
          "output_type": "execute_result",
          "data": {
            "text/plain": [
              "array([ 0.07154883, -0.48147655,  0.30932516,  0.03670042,  0.17479862,\n",
              "       -0.28492576,  0.01606521, -0.11149281, -0.31739622, -0.34090772,\n",
              "       -0.13205183, -0.39947554,  0.01102133,  0.16696763, -0.18381819,\n",
              "       -0.5248809 , -0.07593901, -0.01194962, -0.00350663, -0.22794235,\n",
              "       -0.736531  , -0.33523467,  0.43396974, -0.29538658, -0.00711503,\n",
              "        0.02957085, -0.16438185, -0.1627725 ,  0.13304375, -0.20408663,\n",
              "        0.02209186, -0.28199154,  0.12859303, -0.3942764 , -0.49357978,\n",
              "        0.35555854, -0.15770297, -0.47647566, -0.35421154, -0.52968425,\n",
              "       -0.3018559 , -0.18649018, -0.48030585, -0.3217896 ,  0.27108014,\n",
              "        0.10505092, -0.20843042, -0.05188667, -0.08474158,  0.1598356 ,\n",
              "       -0.46544486,  0.2808295 , -0.30326113, -0.16152835,  0.1451714 ,\n",
              "        0.10856659,  0.2910854 ,  0.06843411,  0.18599215, -0.23991317,\n",
              "        0.11217682, -0.22340727,  0.22429198,  0.18096417,  0.12891345,\n",
              "       -0.01519355,  0.07407975,  0.17934775, -0.4497965 ,  0.33658892,\n",
              "        0.16117568, -0.09061208, -0.21076173, -0.02070395, -0.03369914,\n",
              "        0.13311708, -0.38936555, -0.12162254, -0.20873089, -0.3542164 ,\n",
              "       -0.43440896,  0.19504377, -0.4949218 ,  0.35348412, -0.18391226,\n",
              "       -0.4267416 , -0.06953062, -0.00414048,  0.58393294, -0.49366054,\n",
              "       -0.10125696, -0.24993639, -0.08218656, -0.46786538,  0.28045323,\n",
              "        0.1303202 , -0.21150272, -0.04684289,  0.05648719, -0.33284938],\n",
              "      dtype=float32)"
            ]
          },
          "metadata": {},
          "execution_count": 21
        }
      ]
    },
    {
      "cell_type": "code",
      "source": [
        "model1.wv['waymar'].shape # as we set vetor size =100"
      ],
      "metadata": {
        "colab": {
          "base_uri": "https://localhost:8080/"
        },
        "id": "TmE15fRBLbcn",
        "outputId": "adc1c5d7-c781-4ad1-80e9-24ff4198dc87"
      },
      "execution_count": 22,
      "outputs": [
        {
          "output_type": "execute_result",
          "data": {
            "text/plain": [
              "(100,)"
            ]
          },
          "metadata": {},
          "execution_count": 22
        }
      ]
    },
    {
      "cell_type": "code",
      "source": [
        "# cheking similarity\n",
        "model1.wv.similarity('robb','sansa')"
      ],
      "metadata": {
        "colab": {
          "base_uri": "https://localhost:8080/"
        },
        "id": "ciayd_4rLnKN",
        "outputId": "ae09bff9-ac41-40e1-93d0-e92626eb176b"
      },
      "execution_count": 23,
      "outputs": [
        {
          "output_type": "execute_result",
          "data": {
            "text/plain": [
              "0.4375741"
            ]
          },
          "metadata": {},
          "execution_count": 23
        }
      ]
    },
    {
      "cell_type": "markdown",
      "source": [
        "# Get norm vector means get vector represetation of all word in text"
      ],
      "metadata": {
        "id": "9gA8_WFzOEAN"
      }
    },
    {
      "cell_type": "code",
      "source": [
        "model1.wv.get_normed_vectors()"
      ],
      "metadata": {
        "colab": {
          "base_uri": "https://localhost:8080/"
        },
        "collapsed": true,
        "id": "DwiPresFONaN",
        "outputId": "df65ad93-bfc7-4c3d-e257-cdf0ebe5cfd6"
      },
      "execution_count": 24,
      "outputs": [
        {
          "output_type": "execute_result",
          "data": {
            "text/plain": [
              "array([[-0.03157167,  0.03329486,  0.07823748, ...,  0.00382698,\n",
              "        -0.00795107, -0.10507463],\n",
              "       [ 0.1367176 ,  0.07932004,  0.12713988, ...,  0.01543598,\n",
              "        -0.00661222, -0.0411473 ],\n",
              "       [-0.02581218,  0.04571579, -0.14877154, ...,  0.06430777,\n",
              "        -0.17519535,  0.08006011],\n",
              "       ...,\n",
              "       [-0.13762678, -0.02540592, -0.09280737, ..., -0.02955442,\n",
              "        -0.07511184, -0.02694174],\n",
              "       [-0.16460258,  0.02910239, -0.01831856, ..., -0.01104243,\n",
              "         0.18487741, -0.0165914 ],\n",
              "       [-0.10214901, -0.06626577, -0.07598033, ...,  0.10627676,\n",
              "        -0.10705455, -0.06241082]], dtype=float32)"
            ]
          },
          "metadata": {},
          "execution_count": 24
        }
      ]
    },
    {
      "cell_type": "code",
      "source": [
        "model1.wv.get_normed_vectors().shape"
      ],
      "metadata": {
        "colab": {
          "base_uri": "https://localhost:8080/"
        },
        "id": "KwP_BCBOOS-b",
        "outputId": "411a52d3-4f01-4d46-b3ef-079ddc9c11dd"
      },
      "execution_count": 25,
      "outputs": [
        {
          "output_type": "execute_result",
          "data": {
            "text/plain": [
              "(23476, 100)"
            ]
          },
          "metadata": {},
          "execution_count": 25
        }
      ]
    },
    {
      "cell_type": "code",
      "source": [
        "y=model1.wv.index_to_key # vector to orginal word\n",
        "y"
      ],
      "metadata": {
        "colab": {
          "base_uri": "https://localhost:8080/"
        },
        "collapsed": true,
        "id": "mHJ_vDnsOclr",
        "outputId": "75bf3ad0-abd9-452e-f752-b91600701ee6"
      },
      "execution_count": 26,
      "outputs": [
        {
          "output_type": "execute_result",
          "data": {
            "text/plain": [
              "['the',\n",
              " 'and',\n",
              " 'to',\n",
              " 'of',\n",
              " 'he',\n",
              " 'his',\n",
              " 'was',\n",
              " 'you',\n",
              " 'her',\n",
              " 'in',\n",
              " 'it',\n",
              " 'had',\n",
              " 'that',\n",
              " 'she',\n",
              " 'as',\n",
              " 'with',\n",
              " 'him',\n",
              " 'not',\n",
              " 'but',\n",
              " 'for',\n",
              " 'they',\n",
              " 'is',\n",
              " 'at',\n",
              " 'on',\n",
              " 'said',\n",
              " 'my',\n",
              " 'have',\n",
              " 'be',\n",
              " 'lord',\n",
              " 'them',\n",
              " 'no',\n",
              " 'from',\n",
              " 'would',\n",
              " 'were',\n",
              " 'me',\n",
              " 'your',\n",
              " 'one',\n",
              " 'all',\n",
              " 'when',\n",
              " 'will',\n",
              " 'ser',\n",
              " 'if',\n",
              " 'so',\n",
              " 'their',\n",
              " 'we',\n",
              " 'could',\n",
              " 'are',\n",
              " 'man',\n",
              " 'there',\n",
              " 'this',\n",
              " 'up',\n",
              " 'been',\n",
              " 'what',\n",
              " 'did',\n",
              " 'by',\n",
              " 'king',\n",
              " 'do',\n",
              " 'men',\n",
              " 'back',\n",
              " 'out',\n",
              " 'more',\n",
              " 'or',\n",
              " 'who',\n",
              " 'down',\n",
              " 'well',\n",
              " 'than',\n",
              " 'only',\n",
              " 'like',\n",
              " 'jon',\n",
              " 'some',\n",
              " 'father',\n",
              " 'old',\n",
              " 'hand',\n",
              " 'even',\n",
              " 'too',\n",
              " 'tyrion',\n",
              " 'before',\n",
              " 'never',\n",
              " 'an',\n",
              " 'off',\n",
              " 'see',\n",
              " 'know',\n",
              " 'into',\n",
              " 'made',\n",
              " 'now',\n",
              " 'eyes',\n",
              " 'black',\n",
              " 'told',\n",
              " 'lady',\n",
              " 'thought',\n",
              " 'time',\n",
              " 'then',\n",
              " 'how',\n",
              " 'long',\n",
              " 'has',\n",
              " 'can',\n",
              " 'might',\n",
              " 'us',\n",
              " 'come',\n",
              " 'where',\n",
              " 'here',\n",
              " 'through',\n",
              " 'face',\n",
              " 'still',\n",
              " 'head',\n",
              " 'red',\n",
              " 'll',\n",
              " 'way',\n",
              " 'boy',\n",
              " 'page',\n",
              " 'must',\n",
              " 'once',\n",
              " 'queen',\n",
              " 'good',\n",
              " 'two',\n",
              " 'brother',\n",
              " 'night',\n",
              " 'over',\n",
              " 'little',\n",
              " 'about',\n",
              " 'took',\n",
              " 'other',\n",
              " 'came',\n",
              " 'though',\n",
              " 'again',\n",
              " 'say',\n",
              " 'three',\n",
              " 'should',\n",
              " 'away',\n",
              " 'dead',\n",
              " 'son',\n",
              " 'own',\n",
              " 'blood',\n",
              " 'am',\n",
              " 'take',\n",
              " 'go',\n",
              " 'half',\n",
              " 'make',\n",
              " 'arya',\n",
              " 'saw',\n",
              " 'day',\n",
              " 'white',\n",
              " 'jaime',\n",
              " 'first',\n",
              " 'himself',\n",
              " 'our',\n",
              " 'look',\n",
              " 'want',\n",
              " 'after',\n",
              " 'much',\n",
              " 'enough',\n",
              " 'sword',\n",
              " 'tell',\n",
              " 'girl',\n",
              " 'bran',\n",
              " 'great',\n",
              " 'its',\n",
              " 'looked',\n",
              " 'left',\n",
              " 'knew',\n",
              " 'asked',\n",
              " 'gave',\n",
              " 'maester',\n",
              " 'called',\n",
              " 'wall',\n",
              " 'every',\n",
              " 'heard',\n",
              " 'sansa',\n",
              " 'let',\n",
              " 'yet',\n",
              " 'went',\n",
              " 'turned',\n",
              " 'dany',\n",
              " 'why',\n",
              " 'behind',\n",
              " 'need',\n",
              " 'around',\n",
              " 'just',\n",
              " 'woman',\n",
              " 'another',\n",
              " 'snow',\n",
              " 'beneath',\n",
              " 'across',\n",
              " 'knight',\n",
              " 'keep',\n",
              " 'grace',\n",
              " 'found',\n",
              " 'gold',\n",
              " 'any',\n",
              " 'last',\n",
              " 'cersei',\n",
              " 'castle',\n",
              " 'those',\n",
              " 'stark',\n",
              " 'gods',\n",
              " 'think',\n",
              " 'hair',\n",
              " 'many',\n",
              " 'feet',\n",
              " 'against',\n",
              " 'hands',\n",
              " 'stannis',\n",
              " 'mother',\n",
              " 'catelyn',\n",
              " 'robert',\n",
              " 'seemed',\n",
              " 'prince',\n",
              " 'may',\n",
              " 'ever',\n",
              " 'robb',\n",
              " 'done',\n",
              " 'don',\n",
              " 'find',\n",
              " 'lannister',\n",
              " 're',\n",
              " 'hear',\n",
              " 'name',\n",
              " 'grey',\n",
              " 'horse',\n",
              " 'high',\n",
              " 'put',\n",
              " 'wine',\n",
              " 'stone',\n",
              " 'hard',\n",
              " 'water',\n",
              " 'upon',\n",
              " 'fire',\n",
              " 'iron',\n",
              " 'until',\n",
              " 'these',\n",
              " 'voice',\n",
              " 'gone',\n",
              " 'give',\n",
              " 'sam',\n",
              " 'better',\n",
              " 'seen',\n",
              " 'shall',\n",
              " 'ned',\n",
              " 'always',\n",
              " 'years',\n",
              " 'between',\n",
              " 'dark',\n",
              " 'place',\n",
              " 'small',\n",
              " 'cold',\n",
              " 'winterfell',\n",
              " 'most',\n",
              " 'hundred',\n",
              " 'stood',\n",
              " 'end',\n",
              " 'sister',\n",
              " 'words',\n",
              " 'sea',\n",
              " 'right',\n",
              " 'nothing',\n",
              " 'walls',\n",
              " 'fingers',\n",
              " 'same',\n",
              " 'house',\n",
              " 'cloak',\n",
              " 'young',\n",
              " 'beside',\n",
              " 'does',\n",
              " 'get',\n",
              " 'seven',\n",
              " 'mouth',\n",
              " 'watch',\n",
              " 'door',\n",
              " 'joffrey',\n",
              " 'green',\n",
              " 'big',\n",
              " 'under',\n",
              " 'few',\n",
              " 'sent',\n",
              " 'perhaps',\n",
              " 'almost',\n",
              " 'such',\n",
              " 'wanted',\n",
              " 'daughter',\n",
              " 'true',\n",
              " 'leave',\n",
              " 'while',\n",
              " 'wind',\n",
              " 'city',\n",
              " 'light',\n",
              " 'arms',\n",
              " 'children',\n",
              " 'herself',\n",
              " 'sweet',\n",
              " 'others',\n",
              " 'lost',\n",
              " 'theon',\n",
              " 'each',\n",
              " 'felt',\n",
              " 'side',\n",
              " 'yes',\n",
              " 'brothers',\n",
              " 'best',\n",
              " 'very',\n",
              " 'die',\n",
              " 'brought',\n",
              " 'soon',\n",
              " 'far',\n",
              " 'died',\n",
              " 'north',\n",
              " 'child',\n",
              " 'fear',\n",
              " 'along',\n",
              " 'word',\n",
              " 'brienne',\n",
              " 'both',\n",
              " 'taken',\n",
              " 'battle',\n",
              " 'help',\n",
              " 'new',\n",
              " 'tywin',\n",
              " 'lords',\n",
              " 'davos',\n",
              " 'something',\n",
              " 'wife',\n",
              " 'mean',\n",
              " 've',\n",
              " 'rest',\n",
              " 'hall',\n",
              " 'kill',\n",
              " 'strong',\n",
              " 'steel',\n",
              " 'began',\n",
              " 'sound',\n",
              " 'won',\n",
              " 'dragon',\n",
              " 'past',\n",
              " 'life',\n",
              " 'tower',\n",
              " 'killed',\n",
              " 'arm',\n",
              " 'free',\n",
              " 'sons',\n",
              " 'tried',\n",
              " 'thing',\n",
              " 'days',\n",
              " 'bear',\n",
              " 'bloody',\n",
              " 'heart',\n",
              " 'pale',\n",
              " 'love',\n",
              " 'moment',\n",
              " 'sat',\n",
              " 'bring',\n",
              " 'bed',\n",
              " 'close',\n",
              " 'knights',\n",
              " 'cut',\n",
              " 'wolf',\n",
              " 'death',\n",
              " 'smile',\n",
              " 'horses',\n",
              " 'inside',\n",
              " 'four',\n",
              " 'brown',\n",
              " 'dragons',\n",
              " 'hot',\n",
              " 'silver',\n",
              " 'part',\n",
              " 'bastard',\n",
              " 'open',\n",
              " 'thousand',\n",
              " 'nor',\n",
              " 'landing',\n",
              " 'uncle',\n",
              " 'above',\n",
              " 'going',\n",
              " 'blue',\n",
              " 'air',\n",
              " 'captain',\n",
              " 'please',\n",
              " 'laughed',\n",
              " 'river',\n",
              " 'sun',\n",
              " 'rose',\n",
              " 'fell',\n",
              " 'war',\n",
              " 'golden',\n",
              " 'sleep',\n",
              " 'swords',\n",
              " 'without',\n",
              " 'renly',\n",
              " 'speak',\n",
              " 'full',\n",
              " 'certain',\n",
              " 'fool',\n",
              " 'beyond',\n",
              " 'feel',\n",
              " 'send',\n",
              " 'fight',\n",
              " 'got',\n",
              " 'tongue',\n",
              " 'set',\n",
              " 'rode',\n",
              " 'thick',\n",
              " 'world',\n",
              " 'throat',\n",
              " 'legs',\n",
              " 'deep',\n",
              " 'call',\n",
              " 'honor',\n",
              " 'trees',\n",
              " 'rock',\n",
              " 'tall',\n",
              " 'table',\n",
              " 'pulled',\n",
              " 'broken',\n",
              " 'mormont',\n",
              " 'women',\n",
              " 'steps',\n",
              " 'things',\n",
              " 'next',\n",
              " 'hodor',\n",
              " 'heavy',\n",
              " 'burned',\n",
              " 'oh',\n",
              " 'toward',\n",
              " 'together',\n",
              " 'given',\n",
              " 'skin',\n",
              " 'since',\n",
              " 'moved',\n",
              " 'dwarf',\n",
              " 'smiled',\n",
              " 'alone',\n",
              " 'storm',\n",
              " 'raised',\n",
              " 'ask',\n",
              " 'ride',\n",
              " 'hope',\n",
              " 'eye',\n",
              " 'soft',\n",
              " 'reached',\n",
              " 'second',\n",
              " 'frey',\n",
              " 'remember',\n",
              " 'remembered',\n",
              " 'someone',\n",
              " 'coming',\n",
              " 'hold',\n",
              " 'cannot',\n",
              " 'meant',\n",
              " 'morning',\n",
              " 'ten',\n",
              " 'else',\n",
              " 'teeth',\n",
              " 'throne',\n",
              " 'command',\n",
              " 'fat',\n",
              " 'which',\n",
              " 'truth',\n",
              " 'commander',\n",
              " 'walder',\n",
              " 'doubt',\n",
              " 'ground',\n",
              " 'jorah',\n",
              " 'cup',\n",
              " 'outside',\n",
              " 'known',\n",
              " 'wore',\n",
              " 'ran',\n",
              " 'gate',\n",
              " 'held',\n",
              " 'room',\n",
              " 'closed',\n",
              " 'home',\n",
              " 'matter',\n",
              " 'south',\n",
              " 'wood',\n",
              " 'sky',\n",
              " 'dozen',\n",
              " 'wed',\n",
              " 'people',\n",
              " 'neck',\n",
              " 'food',\n",
              " 'riverrun',\n",
              " 'near',\n",
              " 'instead',\n",
              " 'talk',\n",
              " 'turn',\n",
              " 'none',\n",
              " 'ships',\n",
              " 'below',\n",
              " 'tyrell',\n",
              " 'moon',\n",
              " 'bolton',\n",
              " 'summer',\n",
              " 'lips',\n",
              " 'shadow',\n",
              " 'watched',\n",
              " 'leather',\n",
              " 'times',\n",
              " 'varys',\n",
              " 'shoulder',\n",
              " 'warm',\n",
              " 'septon',\n",
              " 'caught',\n",
              " 'believe',\n",
              " 'least',\n",
              " 'guards',\n",
              " 'answer',\n",
              " 'blade',\n",
              " 'god',\n",
              " 'wondered',\n",
              " 'ice',\n",
              " 'shield',\n",
              " 'mine',\n",
              " 'barristan',\n",
              " 'opened',\n",
              " 'armor',\n",
              " 'safe',\n",
              " 'six',\n",
              " 'kept',\n",
              " 'return',\n",
              " 'wish',\n",
              " 'tommen',\n",
              " 'used',\n",
              " 'smell',\n",
              " 'less',\n",
              " 'being',\n",
              " 'foot',\n",
              " 'squire',\n",
              " 'floor',\n",
              " 'eddard',\n",
              " 'empty',\n",
              " 'followed',\n",
              " 'run',\n",
              " 'serve',\n",
              " 'friends',\n",
              " 'boys',\n",
              " 'beard',\n",
              " 'wedding',\n",
              " 'baratheon',\n",
              " 'cloaks',\n",
              " 'eat',\n",
              " 'wrong',\n",
              " 'daenerys',\n",
              " 'ghost',\n",
              " 'flesh',\n",
              " 'hound',\n",
              " 'five',\n",
              " 'sight',\n",
              " 'ship',\n",
              " 'strength',\n",
              " 'returned',\n",
              " 'nose',\n",
              " 'bones',\n",
              " 'crown',\n",
              " 'yellow',\n",
              " 'chest',\n",
              " 'covered',\n",
              " 'says',\n",
              " 'commanded',\n",
              " 'petyr',\n",
              " 'aemon',\n",
              " 'filled',\n",
              " 'sometimes',\n",
              " 'friend',\n",
              " 'led',\n",
              " 'common',\n",
              " 'yours',\n",
              " 'aye',\n",
              " 'spoke',\n",
              " 'show',\n",
              " 'fighting',\n",
              " 'flames',\n",
              " 'lysa',\n",
              " 'huge',\n",
              " 'aside',\n",
              " 'asha',\n",
              " 'crow',\n",
              " 'belly',\n",
              " 'master',\n",
              " 'seem',\n",
              " 'breath',\n",
              " 'yard',\n",
              " 'gates',\n",
              " 'waiting',\n",
              " 'within',\n",
              " 'looking',\n",
              " 'wooden',\n",
              " 'wet',\n",
              " 'realm',\n",
              " 'thin',\n",
              " 'work',\n",
              " 'bad',\n",
              " 'promised',\n",
              " 'use',\n",
              " 'husband',\n",
              " 'later',\n",
              " 'grew',\n",
              " 'tree',\n",
              " 'onto',\n",
              " 'wildlings',\n",
              " 'loved',\n",
              " 'afraid',\n",
              " 'greyjoy',\n",
              " 'girls',\n",
              " 'rain',\n",
              " 'shoulders',\n",
              " 'shouted',\n",
              " 'walked',\n",
              " 'maid',\n",
              " 'mance',\n",
              " 'remained',\n",
              " 'guard',\n",
              " 'late',\n",
              " 'meereen',\n",
              " 'liked',\n",
              " 'littlefinger',\n",
              " 'fall',\n",
              " 'year',\n",
              " 'margaery',\n",
              " 'dog',\n",
              " 'passed',\n",
              " 'hurt',\n",
              " 'balon',\n",
              " 'taste',\n",
              " 'lay',\n",
              " 'drew',\n",
              " 'dothraki',\n",
              " 'song',\n",
              " 'spear',\n",
              " 'realized',\n",
              " 'pushed',\n",
              " 'sure',\n",
              " 'named',\n",
              " 'finally',\n",
              " 'reach',\n",
              " 'whispered',\n",
              " 'brave',\n",
              " 'stand',\n",
              " 'different',\n",
              " 'wolves',\n",
              " 'suddenly',\n",
              " 'poor',\n",
              " 'kingsguard',\n",
              " 'drogo',\n",
              " 'stay',\n",
              " 'arryn',\n",
              " 'kingdoms',\n",
              " 'stop',\n",
              " 'edmure',\n",
              " 'ears',\n",
              " 'broke',\n",
              " 'burning',\n",
              " 'princess',\n",
              " 'faces',\n",
              " 'dream',\n",
              " 'lannisters',\n",
              " 'direwolf',\n",
              " 'axe',\n",
              " 'tears',\n",
              " 'west',\n",
              " 'heir',\n",
              " 'drink',\n",
              " 'either',\n",
              " 'clegane',\n",
              " 'darkness',\n",
              " 'pointed',\n",
              " 'raven',\n",
              " 'hill',\n",
              " 'try',\n",
              " 'sworn',\n",
              " 'pain',\n",
              " 'forward',\n",
              " 'khal',\n",
              " 'lie',\n",
              " 'truly',\n",
              " 'dagger',\n",
              " 'kings',\n",
              " 'grown',\n",
              " 'seat',\n",
              " 'road',\n",
              " 'born',\n",
              " 'harrenhal',\n",
              " 'care',\n",
              " 'bronn',\n",
              " 'helm',\n",
              " 'round',\n",
              " 'feast',\n",
              " 'quick',\n",
              " 'pycelle',\n",
              " 'amongst',\n",
              " 'understand',\n",
              " 'meat',\n",
              " 'lifted',\n",
              " 'longer',\n",
              " 'reminded',\n",
              " 'whilst',\n",
              " 'maybe',\n",
              " 'short',\n",
              " 'mountain',\n",
              " 'step',\n",
              " 'rodrik',\n",
              " 'ones',\n",
              " 'melisandre',\n",
              " 'pretty',\n",
              " 'third',\n",
              " 'worse',\n",
              " 'bit',\n",
              " 'stopped',\n",
              " 'aegon',\n",
              " 'lands',\n",
              " 'sit',\n",
              " 'sharp',\n",
              " 'save',\n",
              " 'victarion',\n",
              " 'knows',\n",
              " 'live',\n",
              " 'whose',\n",
              " 'smoke',\n",
              " 'horn',\n",
              " 'window',\n",
              " 'leg',\n",
              " 'pray',\n",
              " 'younger',\n",
              " 'westeros',\n",
              " 'silk',\n",
              " 'twenty',\n",
              " 'heads',\n",
              " 'didn',\n",
              " 'pie',\n",
              " 'peace',\n",
              " 'slaves',\n",
              " 'septa',\n",
              " 'ago',\n",
              " 'bread',\n",
              " 'low',\n",
              " 'wants',\n",
              " 'mind',\n",
              " 'laugh',\n",
              " 'hizdahr',\n",
              " 'blind',\n",
              " 'east',\n",
              " 'myself',\n",
              " 'bright',\n",
              " 'reek',\n",
              " 'mad',\n",
              " 'towers',\n",
              " 'sooner',\n",
              " 'slain',\n",
              " 'making',\n",
              " 'coin',\n",
              " 'older',\n",
              " 'camp',\n",
              " 'walk',\n",
              " 'wait',\n",
              " 'point',\n",
              " 'served',\n",
              " 'salt',\n",
              " 'narrow',\n",
              " 'drowned',\n",
              " 'glanced',\n",
              " 'cheeks',\n",
              " 'luwin',\n",
              " 'cousin',\n",
              " 'knife',\n",
              " 'often',\n",
              " 'touched',\n",
              " 'riding',\n",
              " 'targaryen',\n",
              " 'shook',\n",
              " 'quiet',\n",
              " 'sort',\n",
              " 'stepped',\n",
              " 'loras',\n",
              " 'twisted',\n",
              " 'naked',\n",
              " 'during',\n",
              " 'choice',\n",
              " 'lion',\n",
              " 'kevan',\n",
              " 'fish',\n",
              " 'forgotten',\n",
              " 'silence',\n",
              " 'ramsay',\n",
              " 'read',\n",
              " 'hung',\n",
              " 'gift',\n",
              " 'fallen',\n",
              " 'replied',\n",
              " 'running',\n",
              " 'knees',\n",
              " 'large',\n",
              " 'silent',\n",
              " 'fought',\n",
              " 'company',\n",
              " 'ahead',\n",
              " 'cat',\n",
              " 'rhaegar',\n",
              " 'dawn',\n",
              " 'dogs',\n",
              " 'needs',\n",
              " 'sept',\n",
              " 'beautiful',\n",
              " 'knee',\n",
              " 'pass',\n",
              " 'casterly',\n",
              " 'dorne',\n",
              " 'mud',\n",
              " 'tully',\n",
              " 'themselves',\n",
              " 'gregor',\n",
              " 'body',\n",
              " 'stupid',\n",
              " 'singer',\n",
              " 'court',\n",
              " 'age',\n",
              " 'trying',\n",
              " 'meera',\n",
              " 'top',\n",
              " 'kind',\n",
              " 'swear',\n",
              " 'gendry',\n",
              " 'offered',\n",
              " 'clothes',\n",
              " 'whole',\n",
              " 'leaves',\n",
              " 'closer',\n",
              " 'kiss',\n",
              " 'anything',\n",
              " 'wonder',\n",
              " 'whatever',\n",
              " 'threw',\n",
              " 'pay',\n",
              " 'agreed',\n",
              " 'answered',\n",
              " 'climbed',\n",
              " 'wide',\n",
              " 'saying',\n",
              " 'saddle',\n",
              " 'stars',\n",
              " 'comes',\n",
              " 'stones',\n",
              " 'trust',\n",
              " 'host',\n",
              " 'chain',\n",
              " 'trident',\n",
              " 'yourself',\n",
              " 'fair',\n",
              " 'pleased',\n",
              " 'spears',\n",
              " 'insisted',\n",
              " 'ear',\n",
              " 'dying',\n",
              " 'eight',\n",
              " 'yunkai',\n",
              " 'dry',\n",
              " 'hour',\n",
              " 'fast',\n",
              " 'ought',\n",
              " 'service',\n",
              " 'carried',\n",
              " 'doors',\n",
              " 'mail',\n",
              " 'woods',\n",
              " 'council',\n",
              " 'fist',\n",
              " 'join',\n",
              " 'wildling',\n",
              " 'needed',\n",
              " 'thank',\n",
              " 'milk',\n",
              " 'crossed',\n",
              " 'fine',\n",
              " 'wasn',\n",
              " 'quentyn',\n",
              " 'gilly',\n",
              " 'finger',\n",
              " 'shadows',\n",
              " 'tent',\n",
              " 'doing',\n",
              " 'helped',\n",
              " 'win',\n",
              " 'boots',\n",
              " 'land',\n",
              " 'bird',\n",
              " 'somehow',\n",
              " 'folk',\n",
              " 'names',\n",
              " 'crows',\n",
              " 'imp',\n",
              " 'winter',\n",
              " 'kissed',\n",
              " 'banners',\n",
              " 'letter',\n",
              " 'screamed',\n",
              " 'angry',\n",
              " 'pink',\n",
              " 'frightened',\n",
              " 'alive',\n",
              " 'learn',\n",
              " 'torch',\n",
              " 'eunuch',\n",
              " 'chair',\n",
              " 'daughters',\n",
              " 'watching',\n",
              " 'tarly',\n",
              " 'fires',\n",
              " 'harm',\n",
              " 'dragonstone',\n",
              " 'neither',\n",
              " 'learned',\n",
              " 'nine',\n",
              " 'serving',\n",
              " 'standing',\n",
              " 'easy',\n",
              " 'drunk',\n",
              " 'question',\n",
              " 'wings',\n",
              " 'sisters',\n",
              " 'sail',\n",
              " 'priest',\n",
              " 'myrcella',\n",
              " 'nodded',\n",
              " 'forth',\n",
              " 'bone',\n",
              " 'warned',\n",
              " 'giant',\n",
              " 'harbor',\n",
              " 'slipped',\n",
              " 'slow',\n",
              " 'field',\n",
              " 'slid',\n",
              " 'falling',\n",
              " 'bronze',\n",
              " 'slowly',\n",
              " 'dreams',\n",
              " 'promise',\n",
              " 'atop',\n",
              " 'line',\n",
              " 'move',\n",
              " 'illyrio',\n",
              " 'rise',\n",
              " 'whore',\n",
              " 'slave',\n",
              " 'pyke',\n",
              " 'makes',\n",
              " 'laughter',\n",
              " 'flowers',\n",
              " 'grass',\n",
              " 'earth',\n",
              " 'faced',\n",
              " 'loose',\n",
              " 'bay',\n",
              " 'declared',\n",
              " 'lived',\n",
              " 'twice',\n",
              " 'power',\n",
              " 'viserys',\n",
              " 'front',\n",
              " 'because',\n",
              " 'happened',\n",
              " 'play',\n",
              " 'cell',\n",
              " 'chains',\n",
              " 'oldtown',\n",
              " 'break',\n",
              " 'dance',\n",
              " 'aerys',\n",
              " 'clean',\n",
              " 'surely',\n",
              " 'eyrie',\n",
              " 'unless',\n",
              " 'claim',\n",
              " 'jeyne',\n",
              " 'fresh',\n",
              " 'cried',\n",
              " 'laid',\n",
              " 'craster',\n",
              " 'tormund',\n",
              " 'pair',\n",
              " 'quite',\n",
              " 'morrow',\n",
              " 'met',\n",
              " 'game',\n",
              " 'sad',\n",
              " 'shouting',\n",
              " 'already',\n",
              " 'touch',\n",
              " 'softly',\n",
              " 'rule',\n",
              " 'mounted',\n",
              " 'sense',\n",
              " 'count',\n",
              " 'woke',\n",
              " 'steward',\n",
              " 'started',\n",
              " 'afterward',\n",
              " 'captive',\n",
              " 'highgarden',\n",
              " 'sudden',\n",
              " 'jojen',\n",
              " 'hide',\n",
              " ...]"
            ]
          },
          "metadata": {},
          "execution_count": 26
        }
      ]
    },
    {
      "cell_type": "code",
      "source": [
        "len(y)"
      ],
      "metadata": {
        "colab": {
          "base_uri": "https://localhost:8080/"
        },
        "id": "L2y7L86jOiDD",
        "outputId": "975e15f6-cfae-49f0-fe24-864555370868"
      },
      "execution_count": 27,
      "outputs": [
        {
          "output_type": "execute_result",
          "data": {
            "text/plain": [
              "23476"
            ]
          },
          "metadata": {},
          "execution_count": 27
        }
      ]
    },
    {
      "cell_type": "markdown",
      "source": [
        "# Dimension Reduction For better Performance\n",
        "## now dimension=vector_size =100\n",
        "## we will reduce dimension by PCA"
      ],
      "metadata": {
        "id": "wjiLuNYVyo3a"
      }
    },
    {
      "cell_type": "code",
      "source": [
        "from sklearn.decomposition import PCA\n",
        "pca=PCA(n_components=3)# dimension=3"
      ],
      "metadata": {
        "id": "XyckjNBrytcZ"
      },
      "execution_count": 28,
      "outputs": []
    },
    {
      "cell_type": "code",
      "source": [
        "X=pca.fit_transform(model1.wv.get_normed_vectors())"
      ],
      "metadata": {
        "id": "gfg3jN0kzCnM"
      },
      "execution_count": 29,
      "outputs": []
    },
    {
      "cell_type": "code",
      "source": [
        "X"
      ],
      "metadata": {
        "colab": {
          "base_uri": "https://localhost:8080/"
        },
        "id": "LfpcOPVEzJkT",
        "outputId": "b87625f6-cb5b-4ea7-bbd8-aadccb8ae101"
      },
      "execution_count": 30,
      "outputs": [
        {
          "output_type": "execute_result",
          "data": {
            "text/plain": [
              "array([[-0.37635154,  0.32535136, -0.04660852],\n",
              "       [-0.26452783,  0.22695088,  0.0673493 ],\n",
              "       [-0.71481246,  0.12862107, -0.03710156],\n",
              "       ...,\n",
              "       [-0.23325393,  0.02155638, -0.04921668],\n",
              "       [-0.28485698,  0.1399754 , -0.27202874],\n",
              "       [-0.59294325,  0.24163583,  0.12767816]], dtype=float32)"
            ]
          },
          "metadata": {},
          "execution_count": 30
        }
      ]
    },
    {
      "cell_type": "code",
      "source": [
        "X.shape"
      ],
      "metadata": {
        "colab": {
          "base_uri": "https://localhost:8080/"
        },
        "id": "PXSntH1HzLOd",
        "outputId": "72a00d4b-9498-422c-f333-f30a15378f3e"
      },
      "execution_count": 31,
      "outputs": [
        {
          "output_type": "execute_result",
          "data": {
            "text/plain": [
              "(23476, 3)"
            ]
          },
          "metadata": {},
          "execution_count": 31
        }
      ]
    },
    {
      "cell_type": "markdown",
      "source": [
        "# Plot 3D\n",
        "## we will plot top 100 words and want to find simillarity ,distance from 3d plot\n",
        "## use plotly express"
      ],
      "metadata": {
        "id": "xcX-hrHbzNLY"
      }
    },
    {
      "cell_type": "code",
      "source": [
        "import plotly.express as px\n",
        "fig=px.scatter_3d(x=X[:100,0],y=X[:100,1],z=X[:100,2],text=y[:100],color=X[:100,0])\n",
        "fig.update_traces(marker=dict(size=8))\n",
        "fig.show()"
      ],
      "metadata": {
        "colab": {
          "base_uri": "https://localhost:8080/",
          "height": 542
        },
        "id": "QQG_5vigzuE0",
        "outputId": "80eb62d7-cfbf-4bda-b8e3-0011929d85eb"
      },
      "execution_count": 42,
      "outputs": [
        {
          "output_type": "display_data",
          "data": {
            "text/html": [
              "<html>\n",
              "<head><meta charset=\"utf-8\" /></head>\n",
              "<body>\n",
              "    <div>            <script src=\"https://cdnjs.cloudflare.com/ajax/libs/mathjax/2.7.5/MathJax.js?config=TeX-AMS-MML_SVG\"></script><script type=\"text/javascript\">if (window.MathJax && window.MathJax.Hub && window.MathJax.Hub.Config) {window.MathJax.Hub.Config({SVG: {font: \"STIX-Web\"}});}</script>                <script type=\"text/javascript\">window.PlotlyConfig = {MathJaxConfig: 'local'};</script>\n",
              "        <script charset=\"utf-8\" src=\"https://cdn.plot.ly/plotly-2.35.2.min.js\"></script>                <div id=\"1f9f9798-96ac-4629-a6ad-a4c53333526e\" class=\"plotly-graph-div\" style=\"height:525px; width:100%;\"></div>            <script type=\"text/javascript\">                                    window.PLOTLYENV=window.PLOTLYENV || {};                                    if (document.getElementById(\"1f9f9798-96ac-4629-a6ad-a4c53333526e\")) {                    Plotly.newPlot(                        \"1f9f9798-96ac-4629-a6ad-a4c53333526e\",                        [{\"hovertemplate\":\"x=%{x}\\u003cbr\\u003ey=%{y}\\u003cbr\\u003ez=%{z}\\u003cbr\\u003etext=%{text}\\u003cbr\\u003ecolor=%{marker.color}\\u003cextra\\u003e\\u003c\\u002fextra\\u003e\",\"legendgroup\":\"\",\"marker\":{\"color\":[-0.37635154,-0.26452783,-0.71481246,-0.35921353,-0.51916265,-0.44892028,-0.52856535,-0.74560815,-0.4455182,-0.40368176,-0.45654047,-0.53579086,-0.58156997,-0.46122822,-0.4293422,-0.3256262,-0.54787105,-0.67119217,-0.61302143,-0.68212634,-0.4806695,-0.7990407,-0.4827362,-0.43762657,-0.72651166,-0.7371522,-0.6179673,-0.6585203,-0.67700887,-0.47618106,-0.64931107,-0.39625132,-0.7150879,-0.45467862,-0.6979141,-0.7680528,-0.44930285,-0.5947471,-0.5599283,-0.76453006,-0.5366095,-0.71448034,-0.55526274,-0.4261496,-0.67217696,-0.55329156,-0.6897861,-0.47015047,-0.44908422,-0.7102252,-0.30944127,-0.56401896,-0.6453768,-0.64936286,-0.48055232,-0.6886655,-0.71627384,-0.4937696,-0.37904197,-0.39935493,-0.55417705,-0.6082313,-0.633179,-0.2989282,-0.63027483,-0.5473541,-0.6212028,-0.39381427,-0.5061798,-0.5090597,-0.6467284,-0.46624708,-0.40680346,-0.50728816,-0.5276379,-0.4710692,-0.6187625,-0.7031422,-0.51235795,-0.32293642,-0.53522813,-0.6565561,-0.31648982,-0.4480682,-0.6476771,-0.35739267,-0.26983956,-0.676608,-0.5955782,-0.6487015,-0.5130137,-0.40805584,-0.6232067,-0.40789407,-0.7116083,-0.70128775,-0.6782564,-0.76809,-0.68109536,-0.45405957],\"coloraxis\":\"coloraxis\",\"symbol\":\"circle\",\"size\":8},\"mode\":\"markers+text\",\"name\":\"\",\"scene\":\"scene\",\"showlegend\":false,\"text\":[\"the\",\"and\",\"to\",\"of\",\"he\",\"his\",\"was\",\"you\",\"her\",\"in\",\"it\",\"had\",\"that\",\"she\",\"as\",\"with\",\"him\",\"not\",\"but\",\"for\",\"they\",\"is\",\"at\",\"on\",\"said\",\"my\",\"have\",\"be\",\"lord\",\"them\",\"no\",\"from\",\"would\",\"were\",\"me\",\"your\",\"one\",\"all\",\"when\",\"will\",\"ser\",\"if\",\"so\",\"their\",\"we\",\"could\",\"are\",\"man\",\"there\",\"this\",\"up\",\"been\",\"what\",\"did\",\"by\",\"king\",\"do\",\"men\",\"back\",\"out\",\"more\",\"or\",\"who\",\"down\",\"well\",\"than\",\"only\",\"like\",\"jon\",\"some\",\"father\",\"old\",\"hand\",\"even\",\"too\",\"tyrion\",\"before\",\"never\",\"an\",\"off\",\"see\",\"know\",\"into\",\"made\",\"now\",\"eyes\",\"black\",\"told\",\"lady\",\"thought\",\"time\",\"then\",\"how\",\"long\",\"has\",\"can\",\"might\",\"us\",\"come\",\"where\"],\"x\":[-0.37635154,-0.26452783,-0.71481246,-0.35921353,-0.51916265,-0.44892028,-0.52856535,-0.74560815,-0.4455182,-0.40368176,-0.45654047,-0.53579086,-0.58156997,-0.46122822,-0.4293422,-0.3256262,-0.54787105,-0.67119217,-0.61302143,-0.68212634,-0.4806695,-0.7990407,-0.4827362,-0.43762657,-0.72651166,-0.7371522,-0.6179673,-0.6585203,-0.67700887,-0.47618106,-0.64931107,-0.39625132,-0.7150879,-0.45467862,-0.6979141,-0.7680528,-0.44930285,-0.5947471,-0.5599283,-0.76453006,-0.5366095,-0.71448034,-0.55526274,-0.4261496,-0.67217696,-0.55329156,-0.6897861,-0.47015047,-0.44908422,-0.7102252,-0.30944127,-0.56401896,-0.6453768,-0.64936286,-0.48055232,-0.6886655,-0.71627384,-0.4937696,-0.37904197,-0.39935493,-0.55417705,-0.6082313,-0.633179,-0.2989282,-0.63027483,-0.5473541,-0.6212028,-0.39381427,-0.5061798,-0.5090597,-0.6467284,-0.46624708,-0.40680346,-0.50728816,-0.5276379,-0.4710692,-0.6187625,-0.7031422,-0.51235795,-0.32293642,-0.53522813,-0.6565561,-0.31648982,-0.4480682,-0.6476771,-0.35739267,-0.26983956,-0.676608,-0.5955782,-0.6487015,-0.5130137,-0.40805584,-0.6232067,-0.40789407,-0.7116083,-0.70128775,-0.6782564,-0.76809,-0.68109536,-0.45405957],\"y\":[0.32535136,0.22695088,0.12862107,0.06374491,0.27949783,0.15022552,0.11674635,0.0741488,0.23632136,0.16326775,0.3431371,0.16142464,0.1720067,0.3077748,0.24976829,0.16537626,0.26973072,0.06984843,0.21651241,0.050808877,0.3365953,-0.10857956,0.16198236,0.2393121,0.053195536,0.010518104,0.15045056,0.12808241,-0.04892108,0.33256817,0.101863265,0.26399598,0.08018025,0.21086459,0.042721525,-0.0057364106,0.32658136,0.26062992,0.22799014,-0.004222691,-0.05843252,0.18570215,0.26178536,0.19011198,0.17281155,0.20046958,-0.018909112,0.22595355,0.31012076,0.08615085,0.44887918,0.13001956,0.10435044,0.056687057,0.109003685,0.14015877,0.04667066,0.22707202,0.5028446,0.33589435,0.1377553,0.08754436,0.062062964,0.49671143,0.14549665,0.11284479,0.15884756,0.19570163,0.1846134,0.13375822,0.15394457,0.12873913,0.34008104,0.16793227,0.10047568,0.15152547,0.28224444,0.09881582,0.096766524,0.34051448,0.29303718,0.04854293,0.34921914,0.1921526,0.18125086,0.34624135,0.28349024,0.13715938,-0.07144512,0.24868035,0.42280975,0.42469275,0.1259287,0.26140136,-0.0777906,0.019031674,0.015298501,0.097649954,0.27124435,0.359994],\"z\":[-0.046608515,0.0673493,-0.03710156,0.0035822615,-0.056128338,-0.055536404,0.057683922,-0.060834587,0.010224208,0.11155796,0.016224522,0.006449364,0.030236624,-0.018255964,-0.03529069,0.05475939,-0.052383617,-0.00873889,0.02622154,-0.07871547,-0.01461409,-0.042410016,-0.014124736,0.09468025,-0.18192716,-0.08046213,-0.04905434,0.01198592,-0.015997663,0.05204442,-0.10010128,-0.066363335,-0.0033532605,0.06536416,0.049287632,-0.13687557,-0.039285205,-0.0016129836,-0.064854056,-0.08536628,0.15405162,-0.08035493,-0.12303673,0.09921627,0.071134046,0.003961161,0.024540246,0.059158847,-0.08173175,-0.13627496,-0.1876625,0.17371058,0.05367089,-0.0682039,0.012049742,-0.20417406,-0.17904325,0.116467774,-0.23455788,0.08555058,0.053890266,0.18854249,0.08007839,-0.15155813,0.054950494,0.07379394,-0.12685291,0.16210002,-0.11432408,0.107842915,-0.12782703,-0.13072042,0.19514671,0.09958708,0.09744444,-0.028549239,-0.24109267,-0.060539886,0.074527524,-0.08004181,0.10786468,0.054089706,-0.09337458,0.014353141,0.06863376,0.04528201,0.28670067,-0.15249051,0.08681276,-0.17474382,-0.1797203,-0.15400718,-0.0949866,0.21693367,0.05978991,-0.014582351,-0.0068136603,0.0018573105,0.19183177,-0.1294127],\"type\":\"scatter3d\"}],                        {\"template\":{\"data\":{\"histogram2dcontour\":[{\"type\":\"histogram2dcontour\",\"colorbar\":{\"outlinewidth\":0,\"ticks\":\"\"},\"colorscale\":[[0.0,\"#0d0887\"],[0.1111111111111111,\"#46039f\"],[0.2222222222222222,\"#7201a8\"],[0.3333333333333333,\"#9c179e\"],[0.4444444444444444,\"#bd3786\"],[0.5555555555555556,\"#d8576b\"],[0.6666666666666666,\"#ed7953\"],[0.7777777777777778,\"#fb9f3a\"],[0.8888888888888888,\"#fdca26\"],[1.0,\"#f0f921\"]]}],\"choropleth\":[{\"type\":\"choropleth\",\"colorbar\":{\"outlinewidth\":0,\"ticks\":\"\"}}],\"histogram2d\":[{\"type\":\"histogram2d\",\"colorbar\":{\"outlinewidth\":0,\"ticks\":\"\"},\"colorscale\":[[0.0,\"#0d0887\"],[0.1111111111111111,\"#46039f\"],[0.2222222222222222,\"#7201a8\"],[0.3333333333333333,\"#9c179e\"],[0.4444444444444444,\"#bd3786\"],[0.5555555555555556,\"#d8576b\"],[0.6666666666666666,\"#ed7953\"],[0.7777777777777778,\"#fb9f3a\"],[0.8888888888888888,\"#fdca26\"],[1.0,\"#f0f921\"]]}],\"heatmap\":[{\"type\":\"heatmap\",\"colorbar\":{\"outlinewidth\":0,\"ticks\":\"\"},\"colorscale\":[[0.0,\"#0d0887\"],[0.1111111111111111,\"#46039f\"],[0.2222222222222222,\"#7201a8\"],[0.3333333333333333,\"#9c179e\"],[0.4444444444444444,\"#bd3786\"],[0.5555555555555556,\"#d8576b\"],[0.6666666666666666,\"#ed7953\"],[0.7777777777777778,\"#fb9f3a\"],[0.8888888888888888,\"#fdca26\"],[1.0,\"#f0f921\"]]}],\"heatmapgl\":[{\"type\":\"heatmapgl\",\"colorbar\":{\"outlinewidth\":0,\"ticks\":\"\"},\"colorscale\":[[0.0,\"#0d0887\"],[0.1111111111111111,\"#46039f\"],[0.2222222222222222,\"#7201a8\"],[0.3333333333333333,\"#9c179e\"],[0.4444444444444444,\"#bd3786\"],[0.5555555555555556,\"#d8576b\"],[0.6666666666666666,\"#ed7953\"],[0.7777777777777778,\"#fb9f3a\"],[0.8888888888888888,\"#fdca26\"],[1.0,\"#f0f921\"]]}],\"contourcarpet\":[{\"type\":\"contourcarpet\",\"colorbar\":{\"outlinewidth\":0,\"ticks\":\"\"}}],\"contour\":[{\"type\":\"contour\",\"colorbar\":{\"outlinewidth\":0,\"ticks\":\"\"},\"colorscale\":[[0.0,\"#0d0887\"],[0.1111111111111111,\"#46039f\"],[0.2222222222222222,\"#7201a8\"],[0.3333333333333333,\"#9c179e\"],[0.4444444444444444,\"#bd3786\"],[0.5555555555555556,\"#d8576b\"],[0.6666666666666666,\"#ed7953\"],[0.7777777777777778,\"#fb9f3a\"],[0.8888888888888888,\"#fdca26\"],[1.0,\"#f0f921\"]]}],\"surface\":[{\"type\":\"surface\",\"colorbar\":{\"outlinewidth\":0,\"ticks\":\"\"},\"colorscale\":[[0.0,\"#0d0887\"],[0.1111111111111111,\"#46039f\"],[0.2222222222222222,\"#7201a8\"],[0.3333333333333333,\"#9c179e\"],[0.4444444444444444,\"#bd3786\"],[0.5555555555555556,\"#d8576b\"],[0.6666666666666666,\"#ed7953\"],[0.7777777777777778,\"#fb9f3a\"],[0.8888888888888888,\"#fdca26\"],[1.0,\"#f0f921\"]]}],\"mesh3d\":[{\"type\":\"mesh3d\",\"colorbar\":{\"outlinewidth\":0,\"ticks\":\"\"}}],\"scatter\":[{\"fillpattern\":{\"fillmode\":\"overlay\",\"size\":10,\"solidity\":0.2},\"type\":\"scatter\"}],\"parcoords\":[{\"type\":\"parcoords\",\"line\":{\"colorbar\":{\"outlinewidth\":0,\"ticks\":\"\"}}}],\"scatterpolargl\":[{\"type\":\"scatterpolargl\",\"marker\":{\"colorbar\":{\"outlinewidth\":0,\"ticks\":\"\"}}}],\"bar\":[{\"error_x\":{\"color\":\"#2a3f5f\"},\"error_y\":{\"color\":\"#2a3f5f\"},\"marker\":{\"line\":{\"color\":\"#E5ECF6\",\"width\":0.5},\"pattern\":{\"fillmode\":\"overlay\",\"size\":10,\"solidity\":0.2}},\"type\":\"bar\"}],\"scattergeo\":[{\"type\":\"scattergeo\",\"marker\":{\"colorbar\":{\"outlinewidth\":0,\"ticks\":\"\"}}}],\"scatterpolar\":[{\"type\":\"scatterpolar\",\"marker\":{\"colorbar\":{\"outlinewidth\":0,\"ticks\":\"\"}}}],\"histogram\":[{\"marker\":{\"pattern\":{\"fillmode\":\"overlay\",\"size\":10,\"solidity\":0.2}},\"type\":\"histogram\"}],\"scattergl\":[{\"type\":\"scattergl\",\"marker\":{\"colorbar\":{\"outlinewidth\":0,\"ticks\":\"\"}}}],\"scatter3d\":[{\"type\":\"scatter3d\",\"line\":{\"colorbar\":{\"outlinewidth\":0,\"ticks\":\"\"}},\"marker\":{\"colorbar\":{\"outlinewidth\":0,\"ticks\":\"\"}}}],\"scattermapbox\":[{\"type\":\"scattermapbox\",\"marker\":{\"colorbar\":{\"outlinewidth\":0,\"ticks\":\"\"}}}],\"scatterternary\":[{\"type\":\"scatterternary\",\"marker\":{\"colorbar\":{\"outlinewidth\":0,\"ticks\":\"\"}}}],\"scattercarpet\":[{\"type\":\"scattercarpet\",\"marker\":{\"colorbar\":{\"outlinewidth\":0,\"ticks\":\"\"}}}],\"carpet\":[{\"aaxis\":{\"endlinecolor\":\"#2a3f5f\",\"gridcolor\":\"white\",\"linecolor\":\"white\",\"minorgridcolor\":\"white\",\"startlinecolor\":\"#2a3f5f\"},\"baxis\":{\"endlinecolor\":\"#2a3f5f\",\"gridcolor\":\"white\",\"linecolor\":\"white\",\"minorgridcolor\":\"white\",\"startlinecolor\":\"#2a3f5f\"},\"type\":\"carpet\"}],\"table\":[{\"cells\":{\"fill\":{\"color\":\"#EBF0F8\"},\"line\":{\"color\":\"white\"}},\"header\":{\"fill\":{\"color\":\"#C8D4E3\"},\"line\":{\"color\":\"white\"}},\"type\":\"table\"}],\"barpolar\":[{\"marker\":{\"line\":{\"color\":\"#E5ECF6\",\"width\":0.5},\"pattern\":{\"fillmode\":\"overlay\",\"size\":10,\"solidity\":0.2}},\"type\":\"barpolar\"}],\"pie\":[{\"automargin\":true,\"type\":\"pie\"}]},\"layout\":{\"autotypenumbers\":\"strict\",\"colorway\":[\"#636efa\",\"#EF553B\",\"#00cc96\",\"#ab63fa\",\"#FFA15A\",\"#19d3f3\",\"#FF6692\",\"#B6E880\",\"#FF97FF\",\"#FECB52\"],\"font\":{\"color\":\"#2a3f5f\"},\"hovermode\":\"closest\",\"hoverlabel\":{\"align\":\"left\"},\"paper_bgcolor\":\"white\",\"plot_bgcolor\":\"#E5ECF6\",\"polar\":{\"bgcolor\":\"#E5ECF6\",\"angularaxis\":{\"gridcolor\":\"white\",\"linecolor\":\"white\",\"ticks\":\"\"},\"radialaxis\":{\"gridcolor\":\"white\",\"linecolor\":\"white\",\"ticks\":\"\"}},\"ternary\":{\"bgcolor\":\"#E5ECF6\",\"aaxis\":{\"gridcolor\":\"white\",\"linecolor\":\"white\",\"ticks\":\"\"},\"baxis\":{\"gridcolor\":\"white\",\"linecolor\":\"white\",\"ticks\":\"\"},\"caxis\":{\"gridcolor\":\"white\",\"linecolor\":\"white\",\"ticks\":\"\"}},\"coloraxis\":{\"colorbar\":{\"outlinewidth\":0,\"ticks\":\"\"}},\"colorscale\":{\"sequential\":[[0.0,\"#0d0887\"],[0.1111111111111111,\"#46039f\"],[0.2222222222222222,\"#7201a8\"],[0.3333333333333333,\"#9c179e\"],[0.4444444444444444,\"#bd3786\"],[0.5555555555555556,\"#d8576b\"],[0.6666666666666666,\"#ed7953\"],[0.7777777777777778,\"#fb9f3a\"],[0.8888888888888888,\"#fdca26\"],[1.0,\"#f0f921\"]],\"sequentialminus\":[[0.0,\"#0d0887\"],[0.1111111111111111,\"#46039f\"],[0.2222222222222222,\"#7201a8\"],[0.3333333333333333,\"#9c179e\"],[0.4444444444444444,\"#bd3786\"],[0.5555555555555556,\"#d8576b\"],[0.6666666666666666,\"#ed7953\"],[0.7777777777777778,\"#fb9f3a\"],[0.8888888888888888,\"#fdca26\"],[1.0,\"#f0f921\"]],\"diverging\":[[0,\"#8e0152\"],[0.1,\"#c51b7d\"],[0.2,\"#de77ae\"],[0.3,\"#f1b6da\"],[0.4,\"#fde0ef\"],[0.5,\"#f7f7f7\"],[0.6,\"#e6f5d0\"],[0.7,\"#b8e186\"],[0.8,\"#7fbc41\"],[0.9,\"#4d9221\"],[1,\"#276419\"]]},\"xaxis\":{\"gridcolor\":\"white\",\"linecolor\":\"white\",\"ticks\":\"\",\"title\":{\"standoff\":15},\"zerolinecolor\":\"white\",\"automargin\":true,\"zerolinewidth\":2},\"yaxis\":{\"gridcolor\":\"white\",\"linecolor\":\"white\",\"ticks\":\"\",\"title\":{\"standoff\":15},\"zerolinecolor\":\"white\",\"automargin\":true,\"zerolinewidth\":2},\"scene\":{\"xaxis\":{\"backgroundcolor\":\"#E5ECF6\",\"gridcolor\":\"white\",\"linecolor\":\"white\",\"showbackground\":true,\"ticks\":\"\",\"zerolinecolor\":\"white\",\"gridwidth\":2},\"yaxis\":{\"backgroundcolor\":\"#E5ECF6\",\"gridcolor\":\"white\",\"linecolor\":\"white\",\"showbackground\":true,\"ticks\":\"\",\"zerolinecolor\":\"white\",\"gridwidth\":2},\"zaxis\":{\"backgroundcolor\":\"#E5ECF6\",\"gridcolor\":\"white\",\"linecolor\":\"white\",\"showbackground\":true,\"ticks\":\"\",\"zerolinecolor\":\"white\",\"gridwidth\":2}},\"shapedefaults\":{\"line\":{\"color\":\"#2a3f5f\"}},\"annotationdefaults\":{\"arrowcolor\":\"#2a3f5f\",\"arrowhead\":0,\"arrowwidth\":1},\"geo\":{\"bgcolor\":\"white\",\"landcolor\":\"#E5ECF6\",\"subunitcolor\":\"white\",\"showland\":true,\"showlakes\":true,\"lakecolor\":\"white\"},\"title\":{\"x\":0.05},\"mapbox\":{\"style\":\"light\"}}},\"scene\":{\"domain\":{\"x\":[0.0,1.0],\"y\":[0.0,1.0]},\"xaxis\":{\"title\":{\"text\":\"x\"}},\"yaxis\":{\"title\":{\"text\":\"y\"}},\"zaxis\":{\"title\":{\"text\":\"z\"}}},\"coloraxis\":{\"colorbar\":{\"title\":{\"text\":\"color\"}},\"colorscale\":[[0.0,\"#0d0887\"],[0.1111111111111111,\"#46039f\"],[0.2222222222222222,\"#7201a8\"],[0.3333333333333333,\"#9c179e\"],[0.4444444444444444,\"#bd3786\"],[0.5555555555555556,\"#d8576b\"],[0.6666666666666666,\"#ed7953\"],[0.7777777777777778,\"#fb9f3a\"],[0.8888888888888888,\"#fdca26\"],[1.0,\"#f0f921\"]]},\"legend\":{\"tracegroupgap\":0},\"margin\":{\"t\":60}},                        {\"responsive\": true}                    ).then(function(){\n",
              "                            \n",
              "var gd = document.getElementById('1f9f9798-96ac-4629-a6ad-a4c53333526e');\n",
              "var x = new MutationObserver(function (mutations, observer) {{\n",
              "        var display = window.getComputedStyle(gd).display;\n",
              "        if (!display || display === 'none') {{\n",
              "            console.log([gd, 'removed!']);\n",
              "            Plotly.purge(gd);\n",
              "            observer.disconnect();\n",
              "        }}\n",
              "}});\n",
              "\n",
              "// Listen for the removal of the full notebook cells\n",
              "var notebookContainer = gd.closest('#notebook-container');\n",
              "if (notebookContainer) {{\n",
              "    x.observe(notebookContainer, {childList: true});\n",
              "}}\n",
              "\n",
              "// Listen for the clearing of the current output cell\n",
              "var outputEl = gd.closest('.output');\n",
              "if (outputEl) {{\n",
              "    x.observe(outputEl, {childList: true});\n",
              "}}\n",
              "\n",
              "                        })                };                            </script>        </div>\n",
              "</body>\n",
              "</html>"
            ]
          },
          "metadata": {}
        }
      ]
    }
  ]
}